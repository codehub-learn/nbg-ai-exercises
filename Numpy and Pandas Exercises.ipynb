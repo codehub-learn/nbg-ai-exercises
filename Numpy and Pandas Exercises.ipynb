{
 "cells": [
  {
   "cell_type": "markdown",
   "id": "ce728117-f706-475e-adf5-35a84d792bfa",
   "metadata": {},
   "source": [
    "### Generate Random Data and Compute Mean and Standard Deviation (used in EDA):\n",
    "\n",
    "Generate a random dataset of size 100x5 (use the _randn_ function from the _random numpy_ library). Then, compute the mean and standard deviation along each column."
   ]
  },
  {
   "cell_type": "code",
   "execution_count": 5,
   "id": "928b9f27-e7c1-47db-9e4d-00a98f7e140a",
   "metadata": {},
   "outputs": [
    {
     "name": "stdout",
     "output_type": "stream",
     "text": [
      "Mean along each column: [-0.10295661 -0.0168736  -0.05841267 -0.09427399  0.14574467]\n",
      "Standard deviation along each column: [1.00853176 0.95662951 1.00102105 1.03436658 0.96754297]\n"
     ]
    }
   ],
   "source": [
    "import numpy as np\n",
    "\n",
    "# Generate random dataset\n",
    "\n",
    "# Compute mean and standard deviation along each column\n",
    "\n",
    "\n",
    "print(f\"Mean along each column: {mean}\")\n",
    "print(f\"Standard deviation along each column: {std_dev}\")"
   ]
  },
  {
   "cell_type": "markdown",
   "id": "3be91d77-dbb3-4dc6-9d85-271e3bd77252",
   "metadata": {},
   "source": [
    "### Matrix Multiplication (used in Linear Regression):\n",
    "\n",
    "Given a dataset X of shape (m, n) where m is the number of samples and n is the number of features, and a vector theta of shape (n, 1), perform matrix multiplication to obtain predictions y_pred."
   ]
  },
  {
   "cell_type": "code",
   "execution_count": 9,
   "id": "65b08f34-7374-4bd3-ba7c-6b857c2cd6a1",
   "metadata": {},
   "outputs": [
    {
     "name": "stdout",
     "output_type": "stream",
     "text": [
      "Predicted values: \n",
      " [[2.5]\n",
      " [4. ]\n",
      " [5.5]\n",
      " [7. ]]\n"
     ]
    }
   ],
   "source": [
    "import numpy as np\n",
    "\n",
    "# Create some sample data\n",
    "# [[1, 2], [2, 3], [3, 4], [4, 5]]\n",
    "# [0.5], [1]]\n",
    "\n",
    "# Perform matrix multiplication\n",
    "\n",
    "\n",
    "print(f\"Predicted values: \\n {y_pred}\")"
   ]
  },
  {
   "cell_type": "markdown",
   "id": "18a9d26d-9a16-4491-8280-df3340f05848",
   "metadata": {},
   "source": [
    "### Data Cleaning (used in Handling Missing Values)\n",
    "\n",
    "Given a dataframe df with missing values, fill the missing values with the mean of the respective column. Use functions like _fillna_ and _mean_."
   ]
  },
  {
   "cell_type": "code",
   "execution_count": 11,
   "id": "c11ba305-ba44-41ef-8779-ae868ac00ed9",
   "metadata": {},
   "outputs": [
    {
     "name": "stdout",
     "output_type": "stream",
     "text": [
      "DataFrame with missing values filled:\n",
      "           A    B     C\n",
      "0  1.000000  5.0  11.0\n",
      "1  2.000000  6.5  10.0\n",
      "2  2.333333  6.5  11.0\n",
      "3  4.000000  8.0  12.0\n"
     ]
    }
   ],
   "source": [
    "import pandas as pd\n",
    "import numpy as np\n",
    "\n",
    "# A sample dataframe with missing values\n",
    "data = {\n",
    "    'A': [1, 2, np.nan, 4],\n",
    "    'B': [5, np.nan, np.nan, 8],\n",
    "    'C': [np.nan, 10, 11, 12]\n",
    "}\n",
    "\n",
    "# Fill missing values with column means\n",
    "\n",
    "\n",
    "print(f\"DataFrame with missing values filled:\\n {df_filled}\")"
   ]
  },
  {
   "cell_type": "markdown",
   "id": "5bb5f9da-4d86-48fd-b6d9-aae1fc1d1879",
   "metadata": {},
   "source": [
    "### Grouping and Aggregation (used in data preparation):\n",
    "\n",
    "Given a dataframe containing information about sales transactions, group the data by the 'Product' column and calculate the total sales ('Amount') for each product. Use _groupby_ and _sum_ functions. "
   ]
  },
  {
   "cell_type": "code",
   "execution_count": 4,
   "id": "5481476a-909d-4e61-bff4-4e31d978a690",
   "metadata": {},
   "outputs": [
    {
     "name": "stdout",
     "output_type": "stream",
     "text": [
      "Product\n",
      "A    370\n",
      "B    630\n",
      "Name: Amount, dtype: int64\n"
     ]
    }
   ],
   "source": [
    "import pandas as pd\n",
    "\n",
    "# Sample sales data\n",
    "data = {\n",
    "    'Product': ['A', 'B', 'A', 'B', 'A', 'B'],\n",
    "    'Amount': [100, 200, 150, 250, 120, 180]\n",
    "}\n",
    "\n",
    "# Group by 'Product' and calculate total sales\n",
    "\n",
    "\n",
    "print(\"Total sales for each product:\")\n",
    "print(sales_summary)"
   ]
  },
  {
   "cell_type": "markdown",
   "id": "dd7fe8b4-a258-48dd-b94b-7ca48bf2ee83",
   "metadata": {},
   "source": [
    "### Merging (used in data preparation):\n",
    "\n",
    "Given two dataframes containing information about employees and their departments, merge the dataframes based on the 'DepartmentID' column."
   ]
  },
  {
   "cell_type": "code",
   "execution_count": 6,
   "id": "9a8e103c-fd9c-4e7b-8c5b-93dfa1a295c2",
   "metadata": {},
   "outputs": [
    {
     "name": "stdout",
     "output_type": "stream",
     "text": [
      "Merged DataFrame:\n",
      "   EmployeeID     Name  DepartmentID DepartmentName\n",
      "0           1    Alice           101             HR\n",
      "1           2      Bob           102        Finance\n",
      "2           3  Charlie           101             HR\n",
      "3           4    David           103             IT\n"
     ]
    }
   ],
   "source": [
    "import pandas as pd\n",
    "\n",
    "# Sample employee data\n",
    "employees = {\n",
    "    'EmployeeID': [1, 2, 3, 4],\n",
    "    'Name': ['Alice', 'Bob', 'Charlie', 'David'],\n",
    "    'DepartmentID': [101, 102, 101, 103]\n",
    "}\n",
    "# Sample department data\n",
    "departments = {\n",
    "    'DepartmentID': [101, 102, 103],\n",
    "    'DepartmentName': ['HR', 'Finance', 'IT']\n",
    "}\n",
    "\n",
    "# Merge dataframes based on 'DepartmentID'\n",
    "\n",
    "\n",
    "print(\"Merged DataFrame:\")\n",
    "print(merged_df)"
   ]
  },
  {
   "cell_type": "code",
   "execution_count": null,
   "id": "ae2de17b-c49f-4a9c-bb35-dda7bc83a08d",
   "metadata": {},
   "outputs": [],
   "source": []
  }
 ],
 "metadata": {
  "kernelspec": {
   "display_name": "Python 3 (ipykernel)",
   "language": "python",
   "name": "python3"
  },
  "language_info": {
   "codemirror_mode": {
    "name": "ipython",
    "version": 3
   },
   "file_extension": ".py",
   "mimetype": "text/x-python",
   "name": "python",
   "nbconvert_exporter": "python",
   "pygments_lexer": "ipython3",
   "version": "3.12.2"
  }
 },
 "nbformat": 4,
 "nbformat_minor": 5
}
