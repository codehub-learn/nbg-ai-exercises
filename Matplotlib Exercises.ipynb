{
 "cells": [
  {
   "cell_type": "markdown",
   "id": "21e063b1-1c88-486b-8456-3da65a73bfb8",
   "metadata": {},
   "source": [
    "## Matplotlib Exercises - Solutions"
   ]
  },
  {
   "cell_type": "code",
   "execution_count": null,
   "id": "d1d83696-aae5-48d7-a291-478fb64fff2e",
   "metadata": {},
   "outputs": [],
   "source": [
    "import matplotlib.pyplot as plt\n",
    "import numpy as np"
   ]
  },
  {
   "cell_type": "markdown",
   "id": "ab833d50-e084-487b-8758-e1ea47fada4b",
   "metadata": {},
   "source": [
    "### Scatter Plot\n",
    "Create a scatter plot showing the relationship between two features in a dataset.\n",
    "* Add labels to the axes and a title to the plot.\n",
    "* Use different colors or markers for different classes (if applicable)."
   ]
  },
  {
   "cell_type": "code",
   "execution_count": null,
   "id": "7d5e5481-bd81-403a-bc0d-bf6a42e26f39",
   "metadata": {},
   "outputs": [],
   "source": [
    "# Generate random data\n",
    "np.random.seed(0)\n",
    "X = np.random.randn(100, 2)\n",
    "y = np.random.randint(0, 2, 100)\n"
   ]
  },
  {
   "cell_type": "markdown",
   "id": "080d0ca6-efad-472e-9f0a-bf9890a8e402",
   "metadata": {},
   "source": [
    "### Histogram\n",
    "Create a histogram showing the distribution of a feature in the dataset. Add labels to the axes and a title to the plot."
   ]
  },
  {
   "cell_type": "code",
   "execution_count": null,
   "id": "fc68d747-0126-42bc-95e7-3dab3d3538bc",
   "metadata": {},
   "outputs": [],
   "source": [
    "# Generate random data\n",
    "np.random.seed(0)\n",
    "data = np.random.randn(1000)\n"
   ]
  },
  {
   "cell_type": "markdown",
   "id": "aadf7e84-78df-4d13-b8a1-5b73c9f9e267",
   "metadata": {},
   "source": [
    "### Line Plot\n",
    "\n",
    "Create a line plot showing the training and validation loss over epochs during model training.\n",
    "* Add labels to the axes and a title to the plot.\n",
    "* Plot both training and validation loss on the same plot."
   ]
  },
  {
   "cell_type": "code",
   "execution_count": null,
   "id": "d3395094-3581-41b5-95c7-259961cfb4a9",
   "metadata": {},
   "outputs": [],
   "source": [
    "# Dummy data for training and validation loss\n",
    "epochs = range(1, 11)\n",
    "train_loss = [0.5, 0.4, 0.3, 0.25, 0.2, 0.18, 0.15, 0.12, 0.1, 0.08]\n",
    "val_loss = [0.6, 0.5, 0.4, 0.35, 0.3, 0.28, 0.25, 0.22, 0.2, 0.18]\n"
   ]
  },
  {
   "cell_type": "markdown",
   "id": "d80c6777-8e3a-48d4-8b13-245d87b515b9",
   "metadata": {},
   "source": [
    "### Linear Regression Line and Errors\n",
    "\n",
    "* Generate linear synthetic data (given)\n",
    "* Assume that a model has already been trained and the predicted values of a set are stored in a file called _predicted_values_\n",
    "* Load the predicted values from the file\n",
    "* Plot the data points along with the regression line.\n",
    "* Show the residuals (errors) as vertical lines from each data point to the regression line.\n",
    "* Add labels to the axes and a title to the plot."
   ]
  },
  {
   "cell_type": "code",
   "execution_count": null,
   "id": "3cd7c8c1-1a89-4f76-98b3-39f47cad811e",
   "metadata": {},
   "outputs": [],
   "source": [
    "import matplotlib.pyplot as plt\n",
    "import numpy as np\n",
    "import pandas as pd\n",
    "\n",
    "# Generate synthetic data\n",
    "np.random.seed(0)\n",
    "X = 2 * np.random.rand(100, 1)\n",
    "y = 3 + 4 * X + np.random.randn(100, 1)\n"
   ]
  },
  {
   "cell_type": "code",
   "execution_count": null,
   "id": "4089d2e8-fded-4ad0-9416-b3b2d1200af4",
   "metadata": {},
   "outputs": [],
   "source": []
  }
 ],
 "metadata": {
  "kernelspec": {
   "display_name": "Python 3 (ipykernel)",
   "language": "python",
   "name": "python3"
  },
  "language_info": {
   "codemirror_mode": {
    "name": "ipython",
    "version": 3
   },
   "file_extension": ".py",
   "mimetype": "text/x-python",
   "name": "python",
   "nbconvert_exporter": "python",
   "pygments_lexer": "ipython3",
   "version": "3.12.2"
  }
 },
 "nbformat": 4,
 "nbformat_minor": 5
}
