{
 "cells": [
  {
   "cell_type": "markdown",
   "id": "21e063b1-1c88-486b-8456-3da65a73bfb8",
   "metadata": {},
   "source": [
    "## Python Exercises\n"
   ]
  },
  {
   "cell_type": "markdown",
   "id": "a7e1a7f0-4ef5-4e92-b247-388ab28dbb09",
   "metadata": {},
   "source": [
    "### Filtering Outliers:\n",
    "Given a list of numbers, filter out the outliers (values beyond a certain range) using list comprehension."
   ]
  },
  {
   "cell_type": "code",
   "execution_count": null,
   "id": "76894218-f831-41e5-860e-902d4c14a2ca",
   "metadata": {},
   "outputs": [],
   "source": [
    "# Original list\n",
    "\n",
    "\n",
    "# Define range\n",
    "lower_bound = \n",
    "upper_bound = \n",
    "\n",
    "# Using list comprehension\n",
    "\n",
    "\n",
    "print(filtered_data)\n"
   ]
  },
  {
   "cell_type": "markdown",
   "id": "096d4c41-2317-4b14-ad48-4ffa78ce220a",
   "metadata": {},
   "source": [
    "### Calculate the average Sum of Squares Differences\n",
    "\n",
    "Given two lists of equal length, calculate the sum of squares differences between corresponding elements of the lists and then find the average of these differences. Use list comprehension."
   ]
  },
  {
   "cell_type": "code",
   "execution_count": null,
   "id": "7a154ea5-f354-4560-a92b-78fb4f477543",
   "metadata": {},
   "outputs": [],
   "source": [
    "# Define two lists of equal length\n",
    "\n",
    "\n",
    "# Calculate the sum of squares differences using list comprehension\n",
    "\n",
    "\n",
    "# Calculate the average\n",
    "\n",
    "\n",
    "print(f\"Average sum of squares differences: {average}\")"
   ]
  },
  {
   "cell_type": "markdown",
   "id": "ba5d8c6d-20ad-44ae-909a-f7d1f5489b56",
   "metadata": {},
   "source": [
    "### Normalize a List (used for Transformations):\n",
    "Write a Python function to normalize a list of numeric values. Normalization involves scaling the values in the list so that they all fall within a specific range, typically and for this exercise between 0 and 1.\n",
    "\n",
    "The formula for this transformation is\n",
    "$$ NewValue = \\frac{(((OldValue - OldMin) * (NewMax - NewMin))}{(OldMax - OldMin))} + NewMin $$\n"
   ]
  },
  {
   "cell_type": "code",
   "execution_count": null,
   "id": "aae22814-8457-4ad1-addd-ebbcb463d38d",
   "metadata": {},
   "outputs": [],
   "source": [
    "# Example usage:\n",
    "nums = [10, 20, 30, 40, 50]\n",
    "print(normalize_list(nums))  # Output: [0.0, 0.25, 0.5, 0.75, 1.0]"
   ]
  },
  {
   "cell_type": "markdown",
   "id": "8fd87747-8b78-4df9-9910-3c005ae57e9c",
   "metadata": {},
   "source": [
    "### Shuffle Data (used for Cross-Validation):\n",
    "Write a Python function to shuffle a dataset. This function should take a list of data samples and their corresponding labels, and shuffle them while maintaining the correspondence between samples and labels.\n",
    "\n",
    "__Hint:__ \n",
    "* use the _random_ library to suffle, and\n",
    "* _zip_ function to combine or/and split lists (read about the behaviour of the function when it takes one or more parameters).\n",
    "* the * operator in front of a list unpack the list items"
   ]
  },
  {
   "cell_type": "code",
   "execution_count": null,
   "id": "7de3203e-313f-415c-9c1d-a9399878a47f",
   "metadata": {},
   "outputs": [],
   "source": [
    "# Example usage:\n",
    "samples = [ [1, 2, 3], [4, 5, 6], [7, 8, 9] ]\n",
    "labels = [0, 1, 0]\n",
    "shuffled_samples, shuffled_labels = shuffle_data(samples, labels)\n",
    "print(shuffled_samples)  # Output: Shuffled list of samples\n",
    "print(shuffled_labels)   # Output: Shuffled list of labels"
   ]
  },
  {
   "cell_type": "markdown",
   "id": "5d3cc7ab-258e-4250-8baf-f8a3b8d05017",
   "metadata": {},
   "source": [
    "### Split Data (used for creating the Train and Test Sets):\n",
    "Write a Python function to split a dataset into training and test sets. This function should take a list of data samples and their corresponding labels, and split them into two separate lists for training and testing, maintaining the relative order of samples and labels."
   ]
  },
  {
   "cell_type": "code",
   "execution_count": null,
   "id": "3bc95c16-b555-4b29-97b6-6a9c4bea7499",
   "metadata": {},
   "outputs": [],
   "source": [
    "# Example usage:\n",
    "samples = [ [1, 2, 3], [4, 5, 6], [7, 8, 9], [10, 11, 12] ]\n",
    "labels = [0, 1, 0, 1]\n",
    "train_samples, test_samples, train_labels, test_labels = split_train_test(samples, labels)\n",
    "print(train_samples)  # Output: Training samples\n",
    "print(test_samples)   # Output: Test samples\n",
    "print(train_labels)   # Output: Training labels\n",
    "print(test_labels)    # Output: Test labels"
   ]
  },
  {
   "cell_type": "markdown",
   "id": "4e291bde-ae66-4144-ba3e-809bbcf25bcd",
   "metadata": {},
   "source": [
    "### Find Unique Classes:\n",
    "Write a Python function to find the unique classes present in a list of labels."
   ]
  },
  {
   "cell_type": "code",
   "execution_count": null,
   "id": "a49d59dc-513c-40cb-848d-f7f446e2f6ee",
   "metadata": {},
   "outputs": [],
   "source": [
    "# Example usage:\n",
    "labels = [0, 1, 0, 2, 1, 3, 2]\n",
    "print(unique_classes(labels))  # Output: [0, 1, 2, 3]"
   ]
  },
  {
   "cell_type": "markdown",
   "id": "0546c662-689f-444e-9bbb-2ed321b09880",
   "metadata": {},
   "source": [
    "### Count Class Occurrences:\n",
    "Write a Python function to count the occurrences of each class in a list of labels."
   ]
  },
  {
   "cell_type": "code",
   "execution_count": null,
   "id": "da37a9e6-028a-43db-b99b-8a3022247166",
   "metadata": {},
   "outputs": [],
   "source": [
    "# Example usage:\n",
    "labels = [0, 1, 0, 2, 1, 3, 2]\n",
    "print(count_class_occurrences(labels))  # Output: {0: 2, 1: 2, 2: 2, 3: 1}\n"
   ]
  },
  {
   "cell_type": "code",
   "execution_count": null,
   "id": "0a74197c-71ab-4c8a-b77e-5c777960f254",
   "metadata": {},
   "outputs": [],
   "source": []
  }
 ],
 "metadata": {
  "kernelspec": {
   "display_name": "Python 3 (ipykernel)",
   "language": "python",
   "name": "python3"
  },
  "language_info": {
   "codemirror_mode": {
    "name": "ipython",
    "version": 3
   },
   "file_extension": ".py",
   "mimetype": "text/x-python",
   "name": "python",
   "nbconvert_exporter": "python",
   "pygments_lexer": "ipython3",
   "version": "3.12.2"
  }
 },
 "nbformat": 4,
 "nbformat_minor": 5
}
